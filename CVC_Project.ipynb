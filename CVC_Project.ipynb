{
 "cells": [
  {
   "cell_type": "markdown",
   "metadata": {},
   "source": [
    "# <font color=\"green\">CVC Project</font>"
   ]
  },
  {
   "cell_type": "markdown",
   "metadata": {},
   "source": [
    "## <font color =\"Gray\"><strong><u>Team members:</u></strong></font><font color=\"SlateBlue\"><br><ol><li>Mostafa Alaa<li>Mina Hany<li>Micheal Hesham</ol></font>"
   ]
  },
  {
   "cell_type": "markdown",
   "metadata": {},
   "source": [
    "### Import needed modules"
   ]
  },
  {
   "cell_type": "code",
   "execution_count": null,
   "metadata": {},
   "outputs": [],
   "source": [
    "import matplotlib.pyplot as plt\n",
    "import matplotlib.image as mpimg\n",
    "\n",
    "import pyzbar.pyzbar as pyzbar\n",
    "import cv2\n",
    "import numpy as np\n",
    "\n",
    "%matplotlib inline\n",
    "\n",
    "from math import pow, sqrt, atan, pi"
   ]
  },
  {
   "cell_type": "markdown",
   "metadata": {},
   "source": [
    "## <font color=\"red\">* Project starts here *</font>"
   ]
  },
  {
   "cell_type": "code",
   "execution_count": null,
   "metadata": {
    "scrolled": true
   },
   "outputs": [],
   "source": [
    "cap = cv2.VideoCapture(0)\n",
    "\n",
    "while(True):\n",
    "    ret, frame = cap.read()\n",
    "    \n",
    "    plt.imshow(frame)\n",
    "    \n",
    "    # find the barcodes in the image and decode each of the barcodes\n",
    "    barcode = pyzbar.decode(frame)\n",
    "    \n",
    "    if len(barcode) > 0:\n",
    "        print(barcode)\n",
    "        cap.release()\n",
    "        break"
   ]
  },
  {
   "cell_type": "code",
   "execution_count": null,
   "metadata": {},
   "outputs": [],
   "source": [
    "print(len(barcode))\n",
    "\n",
    "# extract the bounding box location of the barcode and crop the image\n",
    "(x, y, w, h) = barcode[0].rect\n",
    "img_gray = frame[y:y+w, x:x+h]\n",
    "    \n",
    "plt.imshow(img_gray, cmap=\"gray\")\n",
    "print(barcode)"
   ]
  },
  {
   "cell_type": "code",
   "execution_count": null,
   "metadata": {},
   "outputs": [],
   "source": [
    "# Convert to gray\n",
    "img_gray = cv2.cvtColor(img_gray, cv2.COLOR_BGR2GRAY)\n",
    "\n",
    "# Threshold\n",
    "img_gray = cv2.adaptiveThreshold(img_gray, 255, cv2.ADAPTIVE_THRESH_GAUSSIAN_C, \\\n",
    "            cv2.THRESH_BINARY,11,2)\n",
    "\n",
    "# Flip image\n",
    "#img_gray = cv2.flip(img_gray, 1)\n",
    "\n",
    "plt.imshow(img_gray, cmap=\"gray\")"
   ]
  },
  {
   "cell_type": "code",
   "execution_count": null,
   "metadata": {},
   "outputs": [],
   "source": [
    "# Get labels and stats\n",
    "num_labels, labels_im, stats, centroids = cv2.connectedComponentsWithStats(img_gray)\n",
    "\n",
    "print(stats)"
   ]
  },
  {
   "cell_type": "code",
   "execution_count": null,
   "metadata": {},
   "outputs": [],
   "source": [
    "# Squares area threshold\n",
    "max_area = 1250\n",
    "min_area = 1000"
   ]
  },
  {
   "cell_type": "code",
   "execution_count": null,
   "metadata": {},
   "outputs": [],
   "source": [
    "# Create copy of stats and image\n",
    "image = np.zeros(img_gray.shape, dtype=\"uint8\")\n",
    "stats_cp = np.copy(stats)\n",
    "\n",
    "# List to store each square's center point\n",
    "squares = list()\n",
    "    \n",
    "# Loop on each label to draw a rectangle on it\n",
    "for j in range(len(stats)):\n",
    "        \n",
    "    # Skip if it is background or if small or big region\n",
    "    if stats[j, cv2.CC_STAT_AREA] < min_area or stats[j, cv2.CC_STAT_AREA] > max_area:\n",
    "        continue\n",
    "    \n",
    "    # Get square center point\n",
    "    x = int(stats[j, cv2.CC_STAT_LEFT] + (stats[j, cv2.CC_STAT_WIDTH] / 2))\n",
    "    y = int(stats[j, cv2.CC_STAT_TOP] + (stats[j, cv2.CC_STAT_HEIGHT] / 2))\n",
    "    # Add the square center point to the list\n",
    "    squares.append((x, y))\n",
    "        \n",
    "    # Get the points of the small square\n",
    "    pts = np.where(labels_im == j)\n",
    "    # draw it\n",
    "    image[pts] = 255\n",
    "\n",
    "plt.imshow(image, cmap=\"gray\")"
   ]
  },
  {
   "cell_type": "code",
   "execution_count": null,
   "metadata": {},
   "outputs": [],
   "source": [
    "print(squares)"
   ]
  },
  {
   "cell_type": "code",
   "execution_count": null,
   "metadata": {
    "scrolled": true
   },
   "outputs": [],
   "source": [
    "lines = np.zeros(img_gray.shape, dtype=\"uint8\")\n",
    "\n",
    "lines = cv2.line(lines, squares[0], squares[1], (255, 255, 255), 1) \n",
    "lines = cv2.line(lines, squares[0], squares[2], (255, 255, 255), 1) \n",
    "lines = cv2.line(lines, squares[1], squares[2], (255, 255, 255), 1) \n",
    "\n",
    "\n",
    "plt.imshow(lines, cmap=\"gray\")"
   ]
  },
  {
   "cell_type": "code",
   "execution_count": null,
   "metadata": {},
   "outputs": [],
   "source": [
    "# List to store line point and its length\n",
    "line_len = list()\n",
    "\n",
    "# calculate the length of the lines\n",
    "for i in range(len(squares)):\n",
    "    x1, y1 = squares[i]\n",
    "\n",
    "    for j in range(i+1, len(squares)):\n",
    "        x2, y2 = squares[j]\n",
    "        \n",
    "        # Calculate length\n",
    "        line = int(sqrt(pow(x2-x1, 2) + pow(y2-y1, 2)))\n",
    "        \n",
    "        line_len.append([(x1, y1), (x2, y2), (line)])\n",
    "        \n",
    "print(line_len)"
   ]
  },
  {
   "cell_type": "code",
   "execution_count": null,
   "metadata": {
    "scrolled": true
   },
   "outputs": [],
   "source": [
    "# Find longest line\n",
    "max_line = line_len[0]\n",
    "\n",
    "if max_line[2] < line_len[1][2] or max_line[2] < line_len[2][2]:\n",
    "    if line_len[1][2] < line_len[2][2]:\n",
    "        max_line = line_len[2]\n",
    "    else:\n",
    "        max_line = line_len[1]\n",
    "        \n",
    "print(max_line)\n",
    "\n",
    "x1, y1 = max_line[0]\n",
    "x2, y2 = max_line[1]\n",
    "\n",
    "# Find coordinates of the unused square\n",
    "i1 = squares.index(max_line[0])\n",
    "i2 = squares.index(max_line[1])\n",
    "i3 = 0\n",
    "\n",
    "for i in range(len(squares)):\n",
    "    if i != i1 and i != i2:\n",
    "        i3 = i\n",
    "        break\n",
    "                \n",
    "x3, y3 = squares[i3]\n",
    "\n",
    "# Midpoint of longest line\n",
    "ym = int(round((y2 + y1) / 2))\n",
    "xm = int(round((x2 + x1) / 2))\n",
    "\n",
    "print(x1, y1)\n",
    "print(x2, y2)\n",
    "print(x3, y3)\n",
    "print(xm, ym)"
   ]
  },
  {
   "cell_type": "code",
   "execution_count": null,
   "metadata": {},
   "outputs": [],
   "source": [
    "# Calculate slope\n",
    "# If longest line is horizontal, angle = 135 or 315\n",
    "if (y1-y2) == 0:\n",
    "    if y3 > ym:\n",
    "        angle = 315\n",
    "    else:\n",
    "        angle = 135\n",
    "    \n",
    "# If longest line is vertical, angle = 45 or 225\n",
    "elif (x2-x1) ==0:\n",
    "    if x3 > xm:\n",
    "        angle = 45        \n",
    "    else:\n",
    "        angle = 225\n",
    "    \n",
    "else:\n",
    "    m = (x1-x2)/(y2-y1)\n",
    "    angle = int(round(atan(m) * 180 / pi))\n",
    "    \n",
    "    if x3 > xm:\n",
    "        angle += (180-45)\n",
    "    else:\n",
    "        angle -= 45\n",
    "        \n",
    "    angle = (angle + 360) % 360\n",
    "    \n",
    "print(angle)\n",
    "print(barcode[0].data)"
   ]
  },
  {
   "cell_type": "code",
   "execution_count": null,
   "metadata": {},
   "outputs": [],
   "source": []
  }
 ],
 "metadata": {
  "kernelspec": {
   "display_name": "Python 3",
   "language": "python",
   "name": "python3"
  },
  "language_info": {
   "codemirror_mode": {
    "name": "ipython",
    "version": 3
   },
   "file_extension": ".py",
   "mimetype": "text/x-python",
   "name": "python",
   "nbconvert_exporter": "python",
   "pygments_lexer": "ipython3",
   "version": "3.7.4"
  }
 },
 "nbformat": 4,
 "nbformat_minor": 2
}
